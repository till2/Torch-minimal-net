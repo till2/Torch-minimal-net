{
 "cells": [
  {
   "cell_type": "code",
   "execution_count": 1,
   "id": "b10d3a77",
   "metadata": {},
   "outputs": [],
   "source": [
    "import torch\n",
    "import torch.nn.functional as F"
   ]
  },
  {
   "cell_type": "code",
   "execution_count": 2,
   "id": "9b9f2567",
   "metadata": {},
   "outputs": [
    {
     "data": {
      "text/plain": [
       "<torch._C.Generator at 0x7f7cd811d8b0>"
      ]
     },
     "execution_count": 2,
     "metadata": {},
     "output_type": "execute_result"
    }
   ],
   "source": [
    "torch.manual_seed(0)"
   ]
  },
  {
   "cell_type": "code",
   "execution_count": 3,
   "id": "4f69fbf9",
   "metadata": {},
   "outputs": [],
   "source": [
    "# define net\n",
    "\n",
    "class BobNet(torch.nn.Module):\n",
    "    \n",
    "    def __init__(self, n_in, n_out):\n",
    "        super(BobNet, self).__init__()\n",
    "        self.predict = torch.nn.Linear(n_in, n_out)\n",
    "    \n",
    "    def forward(self, x):\n",
    "        x = F.leaky_relu(self.predict(x))\n",
    "        return x"
   ]
  },
  {
   "cell_type": "code",
   "execution_count": 4,
   "id": "7a8808cf",
   "metadata": {
    "scrolled": true
   },
   "outputs": [
    {
     "name": "stdout",
     "output_type": "stream",
     "text": [
      "BobNet(\n",
      "  (predict): Linear(in_features=2, out_features=2, bias=True)\n",
      ")\n"
     ]
    }
   ],
   "source": [
    "# spawn model\n",
    "\n",
    "bob = BobNet(n_in=2, n_out=2)\n",
    "print(bob)"
   ]
  },
  {
   "cell_type": "code",
   "execution_count": 5,
   "id": "53bbd39b",
   "metadata": {},
   "outputs": [],
   "source": [
    "# define optim and loss\n",
    "\n",
    "optimizer = torch.optim.Adam(bob.parameters(), lr=0.01)\n",
    "loss_fn = torch.nn.MSELoss()"
   ]
  },
  {
   "cell_type": "code",
   "execution_count": 6,
   "id": "ec050a82",
   "metadata": {
    "scrolled": true
   },
   "outputs": [
    {
     "name": "stdout",
     "output_type": "stream",
     "text": [
      "loss at step   0: 9.21\n",
      "loss at step 100: 0.66\n",
      "loss at step 200: 0.00\n",
      "loss at step 300: 0.00\n",
      "loss at step 400: 0.00\n",
      "loss at step 500: 0.00\n",
      "loss at step 600: 0.00\n",
      "loss at step 700: 0.00\n",
      "loss at step 800: 0.00\n",
      "loss at step 900: 0.00\n"
     ]
    }
   ],
   "source": [
    "# data\n",
    "\n",
    "x = torch.Tensor([1.0, 2.0])\n",
    "y = torch.Tensor([2.0, 4.0])\n",
    "\n",
    "\n",
    "# training loop\n",
    "\n",
    "for i in range(1000):\n",
    "    \n",
    "    # predict\n",
    "    out = bob(x)\n",
    "    loss = loss_fn(out, y)\n",
    "    \n",
    "    if i%100 == 0:\n",
    "        print(f\"loss at step {i:3d}: {loss.item():2.2f}\")\n",
    "\n",
    "    # reset, calculate and apply gradient\n",
    "    optimizer.zero_grad()\n",
    "    loss.backward()\n",
    "    optimizer.step()"
   ]
  }
 ],
 "metadata": {
  "kernelspec": {
   "display_name": "Python 3 (ipykernel)",
   "language": "python",
   "name": "python3"
  },
  "language_info": {
   "codemirror_mode": {
    "name": "ipython",
    "version": 3
   },
   "file_extension": ".py",
   "mimetype": "text/x-python",
   "name": "python",
   "nbconvert_exporter": "python",
   "pygments_lexer": "ipython3",
   "version": "3.8.10"
  }
 },
 "nbformat": 4,
 "nbformat_minor": 5
}
